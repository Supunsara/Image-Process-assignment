{
 "metadata": {
  "language_info": {
   "codemirror_mode": {
    "name": "ipython",
    "version": 3
   },
   "file_extension": ".py",
   "mimetype": "text/x-python",
   "name": "python",
   "nbconvert_exporter": "python",
   "pygments_lexer": "ipython3",
   "version": "3.7.4-final"
  },
  "orig_nbformat": 2,
  "kernelspec": {
   "name": "python3",
   "display_name": "Python 3",
   "language": "python"
  }
 },
 "nbformat": 4,
 "nbformat_minor": 2,
 "cells": [
  {
   "cell_type": "code",
   "execution_count": 1,
   "metadata": {},
   "outputs": [],
   "source": [
    "import tensorflow as tf\n",
    "from tensorflow import keras\n",
    "import numpy as np\n",
    "import matplotlib.pyplot as plt"
   ]
  },
  {
   "cell_type": "code",
   "execution_count": null,
   "metadata": {},
   "outputs": [],
   "source": [
    "(x_train, y_train), (x_test, y_test) = keras.datasets.cifar10.load_data()\n",
    "print('x_train:', x_train.shape)\n",
    "\n",
    "K = len(np.unique(y_train)) # Classes\n",
    "Ntr = x_train.shape[0]\n",
    "Nte = x_test.shape[0]\n",
    "Din = 3072 # CIFAR10\n",
    "# Din = 784 # MINIST\n",
    "\n",
    "# Normalize pixel values\n",
    "x_train, x_test = x_train / 255.0, x_test / 255.0\n",
    "mean_image = np.mean(x_train, axis=0)\n",
    "x_train = x_train - mean_image\n",
    "x_test = x_test - mean_image\n",
    "\n",
    "y_train = tf.keras.utils.to_categorical(y_train, num_classes=K)\n",
    "y_test = tf.keras.utils.to_categorical(y_test, num_classes=K)\n",
    "\n",
    "x_train = np.reshape(x_train,(Ntr,Din))\n",
    "x_test = np.reshape(x_test,(Nte,Din))\n",
    "x_train = x_train.astype('float32')\n",
    "x_test = x_test.astype('float32')\n",
    "\n",
    "std=1e-5\n",
    "w = std*np.random.randn(Din, K)\n",
    "b = np.zeros(K)\n",
    "print(\"w:\", w.shape)\n",
    "print(\"b:\", b.shape)\n",
    "batch_size = Ntr\n",
    "print(\"batch size:\", batch_size)\n",
    "\n",
    "iterations = 300\n",
    "lr = 1.4e-2\n",
    "lr_decay=0.999\n",
    "reg = 5e-6\n",
    "loss_history = []\n",
    "train_acc_history = []\n",
    "val_acc_history = []\n",
    "seed = 0\n",
    "rng = np.random.default_rng(seed=seed)\n",
    "for t in range(iterations):\n",
    "    indices = np.arange(Ntr)\n",
    "    rng.shuffle(indices)\n",
    "    batch_indices = np.random.choice(Ntr,batch_size)\n",
    "    x = x_train[batch_indices]\n",
    "    y = y_train[batch_indices]\n",
    "\n",
    "    y_pred = x.dot(w)+b\n",
    "    loss = 1./batch_size*np.square(y_pred-y).sum()+reg*(np.sum(w*w))\n",
    "    loss_history.append(loss)\n",
    "    #if t%10 == 0:\n",
    "    print('iteration %d / %d: loss %f' %(t,iterations,loss))\n",
    "\n",
    "    dy_pred = 1./batch_size*2.0*(y_pred-y) #partial derivative of L w.r.t. y_hat\n",
    "    dw = x.T.dot(dy_pred)+reg*w #partial derivative of L w.rt. w\n",
    "    db = dy_pred.sum(axis=0)\n",
    "\n",
    "    w -= lr*dw\n",
    "    b -= lr*db \n",
    "    lr *= lr_decay"
   ]
  },
  {
   "cell_type": "code",
   "execution_count": null,
   "metadata": {},
   "outputs": [],
   "source": [
    "plt.plot(loss_history)\n",
    "plt.xlabel(\"Iteration\")\n",
    "plt.ylabel(\"Loss\")\n",
    "f,axarr = plt.subplots(1,10)\n",
    "f.set_size_inches(16,6)\n",
    "\n",
    "#Matrix w\n",
    "for i in range(10):\n",
    "    img = w[:,i].reshape(32,32,3)\n",
    "    axarr[i].imshow(img*1000)\n",
    "plt.show()"
   ]
  }
 ]
}